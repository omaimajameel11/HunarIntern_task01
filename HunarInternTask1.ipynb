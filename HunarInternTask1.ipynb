{
  "nbformat": 4,
  "nbformat_minor": 0,
  "metadata": {
    "colab": {
      "provenance": [],
      "authorship_tag": "ABX9TyOHDsbb9QUdVLI0LjzEthGa",
      "include_colab_link": true
    },
    "kernelspec": {
      "name": "python3",
      "display_name": "Python 3"
    },
    "language_info": {
      "name": "python"
    }
  },
  "cells": [
    {
      "cell_type": "markdown",
      "metadata": {
        "id": "view-in-github",
        "colab_type": "text"
      },
      "source": [
        "<a href=\"https://colab.research.google.com/github/omaimajameel11/HunarIntern_task01/blob/main/HunarInternTask1.ipynb\" target=\"_parent\"><img src=\"https://colab.research.google.com/assets/colab-badge.svg\" alt=\"Open In Colab\"/></a>"
      ]
    },
    {
      "cell_type": "code",
      "execution_count": null,
      "metadata": {
        "colab": {
          "base_uri": "https://localhost:8080/"
        },
        "id": "H5vvGgT1H8sc",
        "outputId": "6581e110-e730-409b-e9d3-c45b4e808f1c"
      },
      "outputs": [
        {
          "output_type": "stream",
          "name": "stdout",
          "text": [
            "RuleBot 2.0: Hello! Type 'bye' to exit.\n",
            "You: hey\n",
            "RuleBot 2.0: Hello! Nice to meet you\n",
            "You: how are you\n",
            "RuleBot 2.0: I'm just a simple chatbot, but I'm doing great! How about you?\n",
            "You: WEATHER\n",
            "RuleBot 2.0: I can’t check live weather, but it’s always sunny inside my code\n",
            "You: HELPP\n",
            "RuleBot 2.0: Sure! You can ask me about my name, greetings, or just chat casually.\n",
            "You: BYE\n",
            "RuleBot 2.0: Goodbye! Talk to you soon\n"
          ]
        }
      ],
      "source": [
        "def chatbot_response(user_input):\n",
        "    user_input = user_input.lower().strip()\n",
        "\n",
        "    if any(word in user_input for word in [\"hi\", \"hello\", \"hey\"]):\n",
        "        return \"Hello! Nice to meet you\"\n",
        "\n",
        "    elif \"how are you\" in user_input:\n",
        "        return \"I'm just a simple chatbot, but I'm doing great! How about you?\"\n",
        "\n",
        "    elif \"your name\" in user_input or \"who are you\" in user_input:\n",
        "        return \"I am RuleBot 2.0, your keyword-based assistant\"\n",
        "\n",
        "    elif \"weather\" in user_input:\n",
        "        return \"I can’t check live weather, but it’s always sunny inside my code\"\n",
        "\n",
        "    elif \"help\" in user_input:\n",
        "        return \"Sure! You can ask me about my name, greetings, or just chat casually.\"\n",
        "\n",
        "    elif \"bye\" in user_input or \"goodbye\" in user_input:\n",
        "        return \"Goodbye! Talk to you soon\"\n",
        "\n",
        "    else:\n",
        "        return \"Hmm... I didn’t get that. Can you try rephrasing?\"\n",
        "\n",
        "def chat():\n",
        "    print(\"RuleBot 2.0: Hello! Type 'bye' to exit.\")\n",
        "    while True:\n",
        "        user_input = input(\"You: \")\n",
        "        response = chatbot_response(user_input)\n",
        "        print(\"RuleBot 2.0:\", response)\n",
        "        if \"bye\" in user_input.lower():\n",
        "            break\n",
        "if __name__ == \"__main__\":\n",
        "    chat()\n"
      ]
    }
  ]
}